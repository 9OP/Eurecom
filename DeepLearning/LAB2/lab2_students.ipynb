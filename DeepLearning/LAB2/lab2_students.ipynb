{
 "cells": [
  {
   "cell_type": "markdown",
   "metadata": {},
   "source": [
    "# Deep Learning -- Convolutional Neural Network (CNN) for Handwritten Digits Recognition"
   ]
  },
  {
   "cell_type": "markdown",
   "metadata": {},
   "source": [
    "___\n",
    "**Martin Guyard, https://github.com/9OP/DeepLearning**\n",
    "___"
   ]
  },
  {
   "cell_type": "markdown",
   "metadata": {},
   "source": [
    "The aim of this session is to practice with Convolutional Neural Networks. Each group should fill and run appropriate notebook cells. \n",
    "\n",
    "Follow instructions step by step until the end and submit your complete notebook as an archive (`tar -cf groupXnotebook.tar DL_lab2/`).\n",
    "\n",
    "Do not forget to run all your cells before generating your final report and do not forget to include the names of all participants in the group. The lab session should be completed by the deadline on Moodle."
   ]
  },
  {
   "cell_type": "markdown",
   "metadata": {},
   "source": [
    "In the last lab session, you built a Multilayer Perceptron for recognizing hand-written digits from the MNIST dataset. The best achieved accuracy on testing data was >90%.  Can  you do better than these results using a deep CNN?\n",
    "Now, let's build a more interesting model. In this notebook, you will build, train and optimize in TensorFlow one of the simplest Convolutional Neural Networks, **LeNet-5**, proposed by Yann LeCun, Leon Bottou, Yosuha Bengio and Patrick Haffner in 1998 (for more details, check the paper *\"Gradient-Based Learning Applied to Document Recognition\"*, Y.LeCun et al.).\n",
    "\n",
    "\n",
    "Since, it's possible that this is our first time using Tensorflow, the next section will serve as introduction to this framework (*Note*: we will use TF 1.x).\n",
    "**Please, even if there is no coding required -- do NOT skip it and READ carefully everything.**"
   ]
  },
  {
   "cell_type": "code",
   "execution_count": 6,
   "metadata": {},
   "outputs": [
    {
     "name": "stdout",
     "output_type": "stream",
     "text": [
      "Extracting MNIST_data/train-images-idx3-ubyte.gz\n",
      "Extracting MNIST_data/train-labels-idx1-ubyte.gz\n",
      "Extracting MNIST_data/t10k-images-idx3-ubyte.gz\n",
      "Extracting MNIST_data/t10k-labels-idx1-ubyte.gz\n",
      "Image Shape: (784,)\n",
      "Training Set:   55000 samples\n",
      "Validation Set: 5000 samples\n",
      "Test Set:       10000 samples\n"
     ]
    }
   ],
   "source": [
    "# import tensorflow as tf\n",
    "import tensorflow.compat.v1 as tf\n",
    "tf.disable_v2_behavior() \n",
    "import numpy as np\n",
    "# from tensorflow.examples.tutorials.mnist import input_data\n",
    "import input_data\n",
    "\n",
    "mnist = input_data.read_data_sets(\"MNIST_data/\", one_hot=True)\n",
    "X_train, y_train           = mnist.train.images, mnist.train.labels\n",
    "X_validation, y_validation = mnist.validation.images, mnist.validation.labels\n",
    "X_test, y_test             = mnist.test.images, mnist.test.labels\n",
    "\n",
    "print(\"Image Shape: {}\".format(X_train[0].shape))\n",
    "print(\"Training Set:   {} samples\".format(len(X_train)))\n",
    "print(\"Validation Set: {} samples\".format(len(X_validation)))\n",
    "print(\"Test Set:       {} samples\".format(len(X_test)))\n",
    "\n",
    "epsilon = 1e-10 # this is a parameter you will use later"
   ]
  },
  {
   "cell_type": "markdown",
   "metadata": {},
   "source": [
    "# Introduction to Tensorflow 101\n",
    "## TensorFlow Static Graph\n",
    "\n",
    "The entire purpose of Tensorflow is to have a so-called computational graph that can be executed much more efficiently than if the same calculations were to be performed directly in Python. TensorFlow can be more efficient than NumPy because TensorFlow knows the entire computation graph that must be executed, while NumPy only knows the computation of a single mathematical operation at a time.\n",
    "\n",
    "TensorFlow can also automatically calculate the gradients that are needed to optimize the variables of the graph so as to make the model perform better. This is because the graph is a combination of simple mathematical expressions so the gradient of the entire graph can be calculated using the chain-rule for derivatives.\n",
    "\n",
    "TensorFlow can also take advantage of multi-core CPUs as well as GPUs - and Google has even built special hardware accelerators just for TensorFlow which are called TPUs (Tensor Processing Units) that are even faster than GPUs.\n",
    "\n",
    "A TensorFlow graph consists of the following parts which will be detailed below:\n",
    "\n",
    "- Placeholder variables used to feed input into the graph.\n",
    "- Model variables that are going to be optimized so as to make the model perform better.\n",
    "- The model which is essentially just a mathematical function that calculates some output given the input in the placeholder variables and the model variables.\n",
    "- A cost measure that can be used to guide the optimization of the variables.\n",
    "- An optimization method which updates the variables of the model.\n",
    "\n",
    "In addition, the TensorFlow graph may also contain various debugging statements e.g. for logging data to be displayed using TensorBoard.\n",
    "\n",
    "## Placeholder variables\n",
    "Placeholder variables serve as the input to the graph that we may change each time we execute the graph. We call this feeding the placeholder variables and it is demonstrated further below.\n",
    "\n",
    "First we define the placeholder variable for the input images. This allows us to change the images that are input to the TensorFlow graph. This is a so-called tensor, which just means that it is a multi-dimensional vector or matrix. The data-type is set to float32 and the shape is set to `[None, img_size_flat]`, where None means that the tensor may hold an arbitrary number of images with each image being a vector of length `img_size_flat` (in our case it's 784)."
   ]
  },
  {
   "cell_type": "code",
   "execution_count": 7,
   "metadata": {},
   "outputs": [
    {
     "name": "stdout",
     "output_type": "stream",
     "text": [
      "Tensor(\"inputs:0\", shape=(?, 784), dtype=float32)\n"
     ]
    }
   ],
   "source": [
    "x = tf.placeholder(tf.float32, [None, 784], name='inputs')\n",
    "print(x)"
   ]
  },
  {
   "cell_type": "markdown",
   "metadata": {},
   "source": [
    "Next we have the placeholder variable for the true labels associated with the images that were input in the placeholder variable x. \n",
    "The shape of this placeholder variable is `[None, num_classes]` which means it may hold an arbitrary number of labels and each label is a vector of length `num_classes` which is 10 in this case."
   ]
  },
  {
   "cell_type": "code",
   "execution_count": 8,
   "metadata": {},
   "outputs": [
    {
     "name": "stdout",
     "output_type": "stream",
     "text": [
      "Tensor(\"labels:0\", shape=(?, 10), dtype=float32)\n"
     ]
    }
   ],
   "source": [
    "y_true = tf.placeholder(tf.float32, [None, 10], name='labels')\n",
    "print(y_true)"
   ]
  },
  {
   "cell_type": "markdown",
   "metadata": {},
   "source": [
    "Finally we have the tensor variable for the true class of each image in the placeholder variable `x`. These are integers and the dimensionality of this placeholder variable is set to `[None]` which means the placeholder variable is a one-dimensional vector of arbitrary length."
   ]
  },
  {
   "cell_type": "code",
   "execution_count": 10,
   "metadata": {},
   "outputs": [],
   "source": [
    "y_true_cls = tf.argmax(y_true, 1) "
   ]
  },
  {
   "cell_type": "markdown",
   "metadata": {},
   "source": [
    "## Variables to be optimized"
   ]
  },
  {
   "cell_type": "markdown",
   "metadata": {},
   "source": [
    "Apart from the placeholder variables that were defined above and which serve as feeding input data into the model, there are also some model variables that must be changed by TensorFlow so as to make the model perform better on the training data.\n",
    "\n",
    "The first variable that must be optimized is called `weights` and is defined here as a TensorFlow variable that must be initialized with zeros and whose shape is `[img_size_flat, num_classes]`, so it is a 2-dimensional tensor (or matrix) with `img_size_flat` rows and `num_classes` columns."
   ]
  },
  {
   "cell_type": "code",
   "execution_count": 11,
   "metadata": {},
   "outputs": [
    {
     "name": "stdout",
     "output_type": "stream",
     "text": [
      "<tf.Variable 'weights:0' shape=(784, 10) dtype=float32_ref>\n"
     ]
    }
   ],
   "source": [
    "weights = tf.Variable(tf.zeros([784, 10]), name='weights')\n",
    "print(weights)"
   ]
  },
  {
   "cell_type": "markdown",
   "metadata": {},
   "source": [
    "The second variable that must be optimized is called `biases` and is defined as a 1-dimensional tensor (or vector) of length `num_classes`."
   ]
  },
  {
   "cell_type": "code",
   "execution_count": 12,
   "metadata": {},
   "outputs": [
    {
     "name": "stdout",
     "output_type": "stream",
     "text": [
      "<tf.Variable 'bias:0' shape=(10,) dtype=float32_ref>\n"
     ]
    }
   ],
   "source": [
    "biases = tf.Variable(tf.zeros([10]), name='bias')\n",
    "print(biases)"
   ]
  },
  {
   "cell_type": "markdown",
   "metadata": {},
   "source": [
    "## Model"
   ]
  },
  {
   "cell_type": "markdown",
   "metadata": {},
   "source": [
    "This simple mathematical model multiplies the images in the placeholder variable `x` with the `weights` and then adds the `biases`.\n",
    "\n",
    "The result is a matrix of shape `[num_images, num_classes]` because `x` has shape `[num_images, img_size_flat]` and `weights` has shape `[img_size_flat, num_classes]`, so the multiplication of those two matrices is a matrix with shape `[num_images, num_classes]` and then the `biases` vector is added to each row of that matrix.\n",
    "\n",
    "Note that the name `logits` is typical TensorFlow terminology, but other people may call the variable something else."
   ]
  },
  {
   "cell_type": "markdown",
   "metadata": {},
   "source": [
    "Now `logits` is a matrix with `num_images` rows and `num_classes` columns, where the element of the $i$'th row and $j$'th column is an estimate of how likely the $i$'th input image is to be of the $j$'th class.\n",
    "\n",
    "However, these estimates are a bit rough and difficult to interpret because the numbers may be very small or large, so we want to normalize them so that each row of the `logits` matrix sums to one, and each element is limited between zero and one. This is calculated using the so-called softmax function and the result is stored in `y_pred`."
   ]
  },
  {
   "cell_type": "markdown",
   "metadata": {},
   "source": [
    "The predicted class can be calculated from the `y_pred` matrix by taking the index of the largest element in each row."
   ]
  },
  {
   "cell_type": "code",
   "execution_count": 13,
   "metadata": {},
   "outputs": [],
   "source": [
    "with tf.name_scope('model'):\n",
    "    logits = tf.matmul(x, weights) + biases\n",
    "    y_pred = tf.nn.softmax(logits)\n",
    "    y_pred_cls = tf.argmax(y_pred, axis=1)"
   ]
  },
  {
   "cell_type": "markdown",
   "metadata": {},
   "source": [
    "## Cost-function to be optimized"
   ]
  },
  {
   "cell_type": "markdown",
   "metadata": {},
   "source": [
    "To make the model better at classifying the input images, we must somehow change the variables for `weights` and `biases`. To do this we first need to know how well the model currently performs by comparing the predicted output of the model `y_pred` to the desired output `y_true`.\n",
    "\n",
    "The cross-entropy is a performance measure used in classification. The cross-entropy is a continuous function that is always positive and if the predicted output of the model exactly matches the desired output then the cross-entropy equals zero. The goal of optimization is therefore to minimize the cross-entropy so it gets as close to zero as possible by changing the `weights` and `biases` of the model.\n",
    "\n",
    "TensorFlow has a built-in function for calculating the cross-entropy. Note that it uses the values of the `logits` because it also calculates the softmax internally.\n",
    "\n",
    "After that, we have the cross-entropy for each of the image classifications so we have a measure of how well the model performs on each image individually. But in order to use the cross-entropy to guide the optimization of the model's variables we need a single scalar value, so we simply take the average of the cross-entropy for all the image classifications."
   ]
  },
  {
   "cell_type": "code",
   "execution_count": 14,
   "metadata": {},
   "outputs": [],
   "source": [
    "with tf.name_scope('loss'):\n",
    "    cross_entropy = tf.nn.softmax_cross_entropy_with_logits_v2(logits=logits,\n",
    "                                                               labels=y_true)\n",
    "    loss = tf.reduce_mean(cross_entropy)"
   ]
  },
  {
   "cell_type": "markdown",
   "metadata": {},
   "source": [
    "## Optimization\n",
    "Now that we have a cost measure that must be minimized, we can then create an optimizer. In this case it is the basic form of Gradient Descent where the step-size is set to 0.01.\n",
    "\n",
    "Note that optimization is not performed at this point. In fact, nothing is calculated at all, we just add the optimizer-object to the TensorFlow graph for later execution."
   ]
  },
  {
   "cell_type": "code",
   "execution_count": 15,
   "metadata": {},
   "outputs": [],
   "source": [
    "learning_rate = 0.01\n",
    "with tf.name_scope('optim'):\n",
    "    optimizer = tf.train.GradientDescentOptimizer(learning_rate)\n",
    "    opt_step = optimizer.minimize(loss)"
   ]
  },
  {
   "cell_type": "markdown",
   "metadata": {},
   "source": [
    "## Performance "
   ]
  },
  {
   "cell_type": "markdown",
   "metadata": {},
   "source": [
    "We need a few more performance measures to display the progress to the user.\n",
    "\n",
    "This is a vector of booleans whether the predicted class equals the true class of each image."
   ]
  },
  {
   "cell_type": "markdown",
   "metadata": {},
   "source": [
    "This calculates the classification accuracy by first type-casting the vector of booleans to floats, so that False becomes 0 and True becomes 1, and then calculating the average of these numbers."
   ]
  },
  {
   "cell_type": "code",
   "execution_count": 16,
   "metadata": {},
   "outputs": [],
   "source": [
    "with tf.name_scope('accuracy'):\n",
    "    correct_prediction = tf.equal(y_pred_cls, y_true_cls)\n",
    "    accuracy = tf.reduce_mean(tf.cast(correct_prediction, tf.float32))\n"
   ]
  },
  {
   "cell_type": "markdown",
   "metadata": {},
   "source": [
    "## TensorFlow Session\n",
    "\n",
    "Once the TensorFlow graph has been created, we have to create a TensorFlow session which is used to execute the graph."
   ]
  },
  {
   "cell_type": "code",
   "execution_count": 17,
   "metadata": {},
   "outputs": [],
   "source": [
    "session = tf.Session()"
   ]
  },
  {
   "cell_type": "markdown",
   "metadata": {},
   "source": [
    "### Initialize variables\n",
    "The variables for `weights` and `biases` must be initialized before we start optimizing them."
   ]
  },
  {
   "cell_type": "code",
   "execution_count": 18,
   "metadata": {},
   "outputs": [],
   "source": [
    "init_op = tf.global_variables_initializer()\n",
    "session.run(init_op)"
   ]
  },
  {
   "cell_type": "markdown",
   "metadata": {},
   "source": [
    "### Setup the TensorBoard\n",
    "\n",
    "Tensorboard is shipped with TensorFlow and it's a tool that allows to plot metrics, debug the graph, and much more."
   ]
  },
  {
   "cell_type": "code",
   "execution_count": 19,
   "metadata": {},
   "outputs": [],
   "source": [
    "def next_path(path_pattern):\n",
    "    import os\n",
    "    i = 1\n",
    "    while os.path.exists(path_pattern % i):\n",
    "        i = i * 2\n",
    "    a, b = (i / 2, i)\n",
    "    while a + 1 < b:\n",
    "        c = (a + b) / 2 \n",
    "        a, b = (c, b) if os.path.exists(path_pattern % c) else (a, c)\n",
    "    directory = path_pattern % b\n",
    "    return directory\n",
    "\n",
    "\n",
    "writer = tf.summary.FileWriter(next_path('logs/run_%02d'))\n",
    "tf.summary.scalar(\"Loss\", loss)\n",
    "tf.summary.scalar(\"Accuracy\", accuracy)\n",
    "merged_summary_op = tf.summary.merge_all()\n"
   ]
  },
  {
   "cell_type": "markdown",
   "metadata": {},
   "source": [
    "## Time to learn"
   ]
  },
  {
   "cell_type": "markdown",
   "metadata": {},
   "source": [
    "Now that everything is defined, we can move to running the optimization.\n",
    "There are 55.000 images in the training-set. It takes a long time to calculate the gradient of the model using all these images. We therefore use Stochastic Gradient Descent which only uses a small batch of images in each iteration of the optimizer."
   ]
  },
  {
   "cell_type": "code",
   "execution_count": 21,
   "metadata": {},
   "outputs": [],
   "source": [
    "batch_size = 100"
   ]
  },
  {
   "cell_type": "markdown",
   "metadata": {},
   "source": [
    "Function for performing a number of optimization iterations so as to gradually improve the `weights` and `biases` of the model. In each iteration, a new batch of data is selected from the training-set and then TensorFlow executes the optimizer using those training samples. \n",
    "\n",
    "Let's define a couple of functions that will be usefull later."
   ]
  },
  {
   "cell_type": "code",
   "execution_count": 20,
   "metadata": {},
   "outputs": [],
   "source": [
    "def optimize(epochs):\n",
    "    # Go through the traning dataset `epochs` times\n",
    "    for e in range(epochs):\n",
    "        \n",
    "        num_of_batches = int(mnist.train.num_examples/batch_size)\n",
    "        \n",
    "        # We save also the loss across all the batches of data for \n",
    "        # presentation purpose\n",
    "        avg_loss = 0.\n",
    "        \n",
    "        # Loop over all batches\n",
    "        for i in range(num_of_batches):\n",
    "            # Get a batch of training examples (shuffle every epoch).\n",
    "            # x_batch now holds a batch of images and\n",
    "            # y_true_batch are the true labels for those images.\n",
    "            x_batch, y_true_batch = mnist.train.next_batch(batch_size, shuffle=(i==0))\n",
    "            \n",
    "            # Put the batch into a dict with the proper names\n",
    "            # for placeholder variables in the TensorFlow graph.\n",
    "            # Note that the placeholder for y_true_cls is not set\n",
    "            # because it is not used during training.\n",
    "            feed_dict_train = {x: x_batch,\n",
    "                               y_true: y_true_batch}\n",
    "            \n",
    "            # Run the optimizer using this batch of training data.\n",
    "            # TensorFlow assigns the variables in feed_dict_train\n",
    "            # to the placeholder variables and then runs the optimizer.\n",
    "            session.run(opt_step, feed_dict=feed_dict_train)\n",
    "            \n",
    "            # Similarly, get the loss and accuracy metrics on the batch of data\n",
    "            batch_loss, summary = session.run([loss, merged_summary_op], feed_dict=feed_dict_train)\n",
    "            \n",
    "            # Write logs at every iteration\n",
    "            writer.add_summary(summary, e * num_of_batches + i)\n",
    "            \n",
    "            # Compute average loss\n",
    "            avg_loss += batch_loss / num_of_batches\n",
    "            \n",
    "        print(\"Epoch: \", '%02d' % (e + 1), \"  =====> Loss =\", \"{:.6f}\".format(avg_loss))\n",
    "\n",
    "def print_accuracy():\n",
    "    feed_dict_test = {x: mnist.test.images,\n",
    "                  y_true: mnist.test.labels}\n",
    "    \n",
    "    # Use TensorFlow to compute the accuracy.\n",
    "    # We are also going to save some metric like memory usage and computation time\n",
    "    run_options = tf.RunOptions(trace_level=tf.RunOptions.FULL_TRACE)\n",
    "    run_metadata = tf.RunMetadata()\n",
    "    acc = session.run(accuracy, feed_dict=feed_dict_test, options=run_options, run_metadata=run_metadata)\n",
    "    try:\n",
    "        writer.add_run_metadata(run_metadata, 'inference')\n",
    "    except ValueError:\n",
    "        pass\n",
    "    writer.flush()\n",
    "    # Print the accuracy.\n",
    "    print(\"Accuracy on test-set: {0:.1%}\".format(acc))"
   ]
  },
  {
   "cell_type": "markdown",
   "metadata": {},
   "source": [
    "Let's add the graph to TensorBoard for easy debugging"
   ]
  },
  {
   "cell_type": "code",
   "execution_count": 22,
   "metadata": {},
   "outputs": [],
   "source": [
    "writer.add_graph(tf.get_default_graph())"
   ]
  },
  {
   "cell_type": "markdown",
   "metadata": {},
   "source": [
    "### Performance before any optimization\n",
    "\n",
    "The accuracy on the test-set is 9.8%. This is because the model has only been initialized and not optimized at all, so it always predicts that the image shows a zero digit and it turns out that 9.8% of the images in the test-set happens to be zero digits."
   ]
  },
  {
   "cell_type": "code",
   "execution_count": 23,
   "metadata": {},
   "outputs": [
    {
     "name": "stdout",
     "output_type": "stream",
     "text": [
      "Accuracy on test-set: 9.8%\n"
     ]
    }
   ],
   "source": [
    "print_accuracy()"
   ]
  },
  {
   "cell_type": "markdown",
   "metadata": {},
   "source": [
    "Now we can train the model for 50 epochs and print the accuracy."
   ]
  },
  {
   "cell_type": "code",
   "execution_count": 24,
   "metadata": {},
   "outputs": [
    {
     "name": "stdout",
     "output_type": "stream",
     "text": [
      "Epoch:  01   =====> Loss = 1.177134\n",
      "Epoch:  02   =====> Loss = 0.662769\n",
      "Epoch:  03   =====> Loss = 0.550719\n",
      "Epoch:  04   =====> Loss = 0.496837\n",
      "Epoch:  05   =====> Loss = 0.463803\n",
      "Epoch:  06   =====> Loss = 0.440929\n",
      "Epoch:  07   =====> Loss = 0.423961\n",
      "Epoch:  08   =====> Loss = 0.410622\n",
      "Epoch:  09   =====> Loss = 0.399933\n",
      "Epoch:  10   =====> Loss = 0.390959\n",
      "Epoch:  11   =====> Loss = 0.383317\n",
      "Epoch:  12   =====> Loss = 0.376821\n",
      "Epoch:  13   =====> Loss = 0.371031\n",
      "Epoch:  14   =====> Loss = 0.365955\n",
      "Epoch:  15   =====> Loss = 0.361362\n",
      "Epoch:  16   =====> Loss = 0.357268\n",
      "Epoch:  17   =====> Loss = 0.353512\n",
      "Epoch:  18   =====> Loss = 0.350185\n",
      "Epoch:  19   =====> Loss = 0.347017\n",
      "Epoch:  20   =====> Loss = 0.344147\n",
      "Epoch:  21   =====> Loss = 0.341466\n",
      "Epoch:  22   =====> Loss = 0.338963\n",
      "Epoch:  23   =====> Loss = 0.336681\n",
      "Epoch:  24   =====> Loss = 0.334475\n",
      "Epoch:  25   =====> Loss = 0.332421\n",
      "Epoch:  26   =====> Loss = 0.330580\n",
      "Epoch:  27   =====> Loss = 0.328745\n",
      "Epoch:  28   =====> Loss = 0.326999\n",
      "Epoch:  29   =====> Loss = 0.325368\n",
      "Epoch:  30   =====> Loss = 0.323877\n",
      "Epoch:  31   =====> Loss = 0.322332\n",
      "Epoch:  32   =====> Loss = 0.320966\n",
      "Epoch:  33   =====> Loss = 0.319648\n",
      "Epoch:  34   =====> Loss = 0.318280\n",
      "Epoch:  35   =====> Loss = 0.317102\n",
      "Epoch:  36   =====> Loss = 0.315953\n",
      "Epoch:  37   =====> Loss = 0.314830\n",
      "Epoch:  38   =====> Loss = 0.313744\n",
      "Epoch:  39   =====> Loss = 0.312715\n",
      "Epoch:  40   =====> Loss = 0.311714\n",
      "Epoch:  41   =====> Loss = 0.310731\n",
      "Epoch:  42   =====> Loss = 0.309801\n",
      "Epoch:  43   =====> Loss = 0.308937\n",
      "Epoch:  44   =====> Loss = 0.307995\n",
      "Epoch:  45   =====> Loss = 0.307178\n",
      "Epoch:  46   =====> Loss = 0.306386\n",
      "Epoch:  47   =====> Loss = 0.305579\n",
      "Epoch:  48   =====> Loss = 0.304797\n",
      "Epoch:  49   =====> Loss = 0.304101\n",
      "Epoch:  50   =====> Loss = 0.303339\n",
      "Accuracy on test-set: 91.9%\n"
     ]
    }
   ],
   "source": [
    "optimize(50)\n",
    "print_accuracy()"
   ]
  },
  {
   "cell_type": "markdown",
   "metadata": {},
   "source": [
    "Using Tensorboard, we can now visualize the created graph, giving you an overview of your architecture and how all of the major components are connected. You can also see and analyse the learning curves. \n",
    "\n",
    "To launch TensorBoard: \n",
    "- Open a Terminal and run the command line `tensorboard --logdir logs`\n",
    "- Click on \"Tensorboard web interface\" in Zoe (available only within EURECOM network) \n",
    "\n",
    "Try to play with it: check the behaviour of the training procedure, check the graph and try to match the nodes with their definition in the code, check the profiling that we did for the inference (how much memory it requires, how long it takes, ...)."
   ]
  },
  {
   "cell_type": "markdown",
   "metadata": {},
   "source": [
    "# LeNet5"
   ]
  },
  {
   "cell_type": "markdown",
   "metadata": {},
   "source": [
    "You are now familar with **TensorFlow** and **TensorBoard**. In this section, you are to build, train and test the baseline [LeNet-5](http://yann.lecun.com/exdb/lenet/)  model for the MNIST digits recognition problem.  \n",
    "\n",
    "Then, you will make some optimizations to get more than 99% of accuracy.\n",
    "\n",
    "For more informations, have a look at this list of results: http://rodrigob.github.io/are_we_there_yet/build/classification_datasets_results.html"
   ]
  },
  {
   "cell_type": "markdown",
   "metadata": {},
   "source": [
    "\n",
    "<img width=\"800\" height=\"600\" align=\"center\" src=\" data:image/png;base64,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\">\n",
    "\n",
    "\n",
    "\n",
    "\n",
    "\n",
    "The LeNet architecture takes a 28x28xC image as input, where C is the number of color channels. Since MNIST images are grayscale, C is 1 in this case.\n",
    "\n",
    "--------------------------\n",
    "**Layer 1 - Convolution (5x5):** The output shape should be 28x28x6. **Activation:** ReLU. **MaxPooling:** The output shape should be 14x14x6.\n",
    "\n",
    "**Layer 2 - Convolution (5x5):** The output shape should be 10x10x16. **Activation:** ReLU. **MaxPooling:** The output shape should be 5x5x16.\n",
    "\n",
    "**Flatten:** Flatten the output shape of the final pooling layer such that it's 1D instead of 3D.  You may need to use tf.reshape.\n",
    "\n",
    "**Layer 3 - Fully Connected:** This should have 120 outputs. **Activation:** ReLU.\n",
    "\n",
    "**Layer 4 - Fully Connected:** This should have 84 outputs. **Activation:** ReLU.\n",
    "\n",
    "**Layer 5 - Fully Connected:** This should have 10 outputs. **Activation:** softmax.\n"
   ]
  },
  {
   "cell_type": "markdown",
   "metadata": {},
   "source": [
    "<b> Question </b>  Implement the Neural Network architecture described above.\n",
    "For that, your will use classes and functions from  https://www.tensorflow.org/api_docs/python/tf/nn. \n",
    "\n",
    "We give you some helper functions for weigths and bias initilization. Also you can refer to section 1. \n"
   ]
  },
  {
   "cell_type": "code",
   "execution_count": 29,
   "metadata": {},
   "outputs": [],
   "source": [
    "# Functions for weigths and bias initilization \n",
    "def weight_variable(shape, name):\n",
    "    initial = tf.truncated_normal(shape, stddev=0.1)\n",
    "    return tf.Variable(initial, name=name)\n",
    "\n",
    "def bias_variable(shape, name):\n",
    "    initial = tf.constant(0., shape=shape)\n",
    "    return tf.Variable(initial, name=name)"
   ]
  },
  {
   "cell_type": "code",
   "execution_count": 32,
   "metadata": {},
   "outputs": [],
   "source": [
    "def build_lenet5(x):\n",
    "    with tf.name_scope(\"reshape\"):\n",
    "        image = tf.reshape(x, [-1, 28, 28, 1]) # [None, 28, 28, 1]\n",
    "    \n",
    "    with tf.name_scope(\"lenet5\"):\n",
    "        with tf.name_scope(\"layer1\"):\n",
    "            ## INIT\n",
    "            # Weight size is: [ filter_size , number of filters   ]\n",
    "            # filter size: 5x5x1, number of filters: 6\n",
    "            conv1_w = weight_variable(shape=[5, 5, 1, 6], name=\"conv1_w\")\n",
    "            # There are as many bias as there are filters\n",
    "            conv1_b = bias_variable(shape=[6], name=\"conv1_b\")\n",
    "            \n",
    "            ## CONVOLUTION\n",
    "            # Strides: NHWC,\n",
    "            # N: number of images (batch size), it will be 1 for simplicity.\n",
    "            # H: height of the image\n",
    "            # W: Width of the image\n",
    "            # C: number of channels (here 1  because grayscale)\n",
    "            # Same padding: size of the output is the same as the input: 28x28 \n",
    "            conv1 = tf.nn.conv2d(image, conv1_w, strides=[1, 1, 1, 1], padding=\"SAME\") + conv1_b\n",
    "            \n",
    "            ## ACTIVATION\n",
    "            # ReLu activation\n",
    "            conv1 = tf.nn.relu(conv1)\n",
    "            \n",
    "            ## MAXPOOLING\n",
    "            # Stride: ., 2, 2, 1: from 28x28x6 to 14x14x6\n",
    "            pool_1 = tf.nn.max_pool(conv1, ksize=[1, 2, 2, 1], strides=[1, 2, 2, 1], padding=\"VALID\")\n",
    "\n",
    "            \n",
    "        with tf.name_scope(\"layer2\"):\n",
    "            ## INIT\n",
    "            # filter size: 5x5x6, number of filters: 16\n",
    "            conv2_w = weight_variable(shape=[5, 5, 6, 16], name=\"conv2_w\")\n",
    "            conv2_b = bias_variable(shape=[16], name=\"conv2_b\")\n",
    "            \n",
    "            ## CONVOLUTION\n",
    "            # Padding is \"VALID\" because from 14x14 to 10x10 with 5x5 filter\n",
    "            conv2 = tf.nn.conv2d(pool_1, conv2_w, strides=[1, 1, 1, 1], padding=\"VALID\") + conv2_b\n",
    "            \n",
    "            ## ACTIVATION\n",
    "            conv2 = tf.nn.relu(conv2)\n",
    "            \n",
    "            ## MAXPOOLING\n",
    "            pool_2 = tf.nn.max_pool(conv2, ksize=[1, 2, 2, 1], strides=[1, 2, 2, 1], padding=\"VALID\" )\n",
    "        \n",
    "        \n",
    "        with tf.name_scope(\"flatten\"):\n",
    "            # From 3D to 1D\n",
    "            # From 5x5x16 to 400\n",
    "            flat = tf.reshape(pool_2, [-1, 400], name=\"flatten\")\n",
    "            \n",
    "                                     \n",
    "        with tf.name_scope(\"layer3\"):\n",
    "            # From 400 to 120\n",
    "            flat1_w = weight_variable(shape=[400, 120], name=\"weights_fully_1\")\n",
    "            flat1_b = bias_variable(shape=[120], name=\"bias_fully_1\")\n",
    "            \n",
    "            # Fully connected layer\n",
    "            flat1 = tf.matmul(flat, flat1_w) + flat1_b\n",
    "            \n",
    "            # ReLu\n",
    "            flat1 = tf.nn.relu(flat1)\n",
    "            \n",
    "            \n",
    "        with tf.name_scope(\"layer4\"):\n",
    "            # From 120 to 84\n",
    "            flat2_w = weight_variable(shape=[120, 84], name=\"weights_fully_2\")\n",
    "            flat2_b = bias_variable(shape=[84], name=\"bias_fully_2\" )\n",
    "            \n",
    "            # Fully connected layer\n",
    "            flat2 = tf.matmul(flat1, flat2_w) + flat2_b\n",
    "            \n",
    "            # ReLu\n",
    "            flat2 = tf.nn.relu(flat2)\n",
    "\n",
    "            \n",
    "        with tf.name_scope(\"layer5\"):\n",
    "            # From 84 to 10\n",
    "            flat3_w = weight_variable(shape=[84,10], name=\"weights_fully_output\")\n",
    "            flat3_b = bias_variable(shape=[10], name=\"bias_fully_output\" )\n",
    "            \n",
    "            # Fully connected layer\n",
    "            logits = tf.matmul(flat2, flat3_w) + flat3_b\n",
    "            # Softmax activation is defined outside because some function (cross entropy of acc)\n",
    "            # already compute softmax.\n",
    "        \n",
    "    return logits"
   ]
  },
  {
   "cell_type": "markdown",
   "metadata": {},
   "source": [
    "<b> Question  </b>  Calculate the number of parameters of this model "
   ]
  },
  {
   "cell_type": "markdown",
   "metadata": {},
   "source": [
    "- Layer 1 : (5x5x1 + 1) x 6 = 156\n",
    "    - filtersize: 5x5x1\n",
    "    - biase: + 1\n",
    "    - number of conv filter: 6\n",
    "    \n",
    "    \n",
    "- Layer 2 : (5x5x1 + 1) x 16 x 6 = 2496\n",
    "    - filtersize: 5x5x1\n",
    "    - biase: +1\n",
    "    - number of conv filter: 16\n",
    "    - number of input: 6 filters from layer 1 (16 filters applied to each of the 6 filters of layer1)\n",
    "    \n",
    "    \n",
    "- Layer 3 : 400 x 120 + 120 = 48120\n",
    "    - 400 input units\n",
    "    - 120 output units\n",
    "    - 120 biases: 1 per unit\n",
    "    \n",
    "    \n",
    "- Layer 4 : 120 x 84 + 84 = 10164\n",
    "    - 120 input units\n",
    "    - 84 output units\n",
    "    - 84 biases: 1 per unit\n",
    "    \n",
    "    \n",
    "- Layer 5 : 84 x 10 + 10 = 850\n",
    "    - 84 input units\n",
    "    - 10 output units\n",
    "    - 10 biases: 1 per unit\n",
    "    \n",
    "    \n",
    "**Number of parameters: 156+2496+48120+10164+850 = 61786**\n",
    "\n",
    "On the internet I found around 60k parameters for LeNet5, seems consistant with my calculation."
   ]
  },
  {
   "cell_type": "markdown",
   "metadata": {},
   "source": [
    "<b> Question </b>  Define your model, its accuracy and the loss function according to the following parameters (you can look at Section 1 to see what is expected):\n",
    "\n",
    "     Learning rate: 0.001\n",
    "     Loss Fucntion: Cross-entropy\n",
    "     Optimizer: tf.train.GradientDescentOptimizer\n",
    "     Number of epochs: 40\n",
    "     Batch size: 128"
   ]
  },
  {
   "cell_type": "code",
   "execution_count": 33,
   "metadata": {},
   "outputs": [],
   "source": [
    "tf.reset_default_graph() # reset the default graph before defining a new model\n",
    "\n",
    "# Parameters\n",
    "learning_rate = 0.001\n",
    "batch_size = 128\n",
    "\n",
    "# Model, loss function and accuracy\n",
    "x = tf.placeholder(tf.float32, [None, 784], name='inputs')\n",
    "y_true = tf.placeholder(tf.float32, [None, 10], name='labels')\n",
    "y_true_cls = tf.argmax(y_true, 1) \n",
    "\n",
    "with tf.name_scope('model'):\n",
    "    logits = build_lenet5(x)\n",
    "    y_pred = tf.nn.softmax(logits) # Layer 5 activation function is defined here\n",
    "    y_pred_cls = tf.argmax(y_pred, axis=1)\n",
    "\n",
    "with tf.name_scope('loss'):\n",
    "    cross_entropy = tf.nn.softmax_cross_entropy_with_logits_v2(logits=logits, labels=y_true)\n",
    "    loss = tf.reduce_mean(cross_entropy)\n",
    "    \n",
    "with tf.name_scope('optim'):\n",
    "    optimizer = tf.train.GradientDescentOptimizer(learning_rate) # Simple SGD optimizer\n",
    "    opt_step = optimizer.minimize(loss)\n",
    "    \n",
    "with tf.name_scope('accuracy'):\n",
    "    correct_prediction = tf.equal(y_pred_cls, y_true_cls)\n",
    "    accuracy = tf.reduce_mean(tf.cast(correct_prediction, tf.float32))\n",
    "\n",
    "session =  tf.Session()\n",
    "init_op = tf.global_variables_initializer()\n",
    "session.run(init_op)\n",
    "\n",
    "\n",
    "writer = tf.summary.FileWriter(next_path('logs/lenet5/run_%02d'))\n",
    "tf.summary.scalar(\"Loss\", loss)\n",
    "tf.summary.scalar(\"Accuracy\", accuracy)\n",
    "merged_summary_op = tf.summary.merge_all()\n",
    "\n",
    "writer.add_graph(tf.get_default_graph())"
   ]
  },
  {
   "cell_type": "markdown",
   "metadata": {},
   "source": [
    "**Question:**\n",
    "Implement training pipeline and run the training data through it to train the model.\n",
    "\n",
    "- Before each epoch, shuffle the training set. \n",
    "- Print the loss per mini batch and the training/validation accuracy per epoch. (Display results every 100 epochs)\n",
    "- Save the model after training\n",
    "- Print after training the final testing accuracy \n",
    "\n"
   ]
  },
  {
   "cell_type": "code",
   "execution_count": 34,
   "metadata": {},
   "outputs": [],
   "source": [
    "def optimize(epochs):\n",
    "    # Go through the traning dataset `epochs` times\n",
    "    for e in range(epochs):\n",
    "        \n",
    "        num_of_batches = int(mnist.train.num_examples/batch_size)\n",
    "        \n",
    "        # We save also the loss across all the batches of data for \n",
    "        # presentation purpose\n",
    "        avg_loss = 0.\n",
    "        \n",
    "        # Loop over all batches\n",
    "        for i in range(num_of_batches):\n",
    "            # Get a batch of training examples (shuffle every epoch).\n",
    "            # x_batch now holds a batch of images and\n",
    "            # y_true_batch are the true labels for those images.\n",
    "            x_batch, y_true_batch = mnist.train.next_batch(batch_size, shuffle=(i==0))\n",
    "            \n",
    "            # Put the batch into a dict with the proper names\n",
    "            # for placeholder variables in the TensorFlow graph.\n",
    "            # Note that the placeholder for y_true_cls is not set\n",
    "            # because it is not used during training.\n",
    "            feed_dict_train = {x: x_batch,\n",
    "                               y_true: y_true_batch}\n",
    "            \n",
    "            # Run the optimizer using this batch of training data.\n",
    "            # TensorFlow assigns the variables in feed_dict_train\n",
    "            # to the placeholder variables and then runs the optimizer.\n",
    "            session.run(opt_step, feed_dict=feed_dict_train)\n",
    "            \n",
    "            # Similarly, get the loss and accuracy metrics on the batch of data\n",
    "            batch_loss, summary = session.run([loss, merged_summary_op], feed_dict=feed_dict_train)\n",
    "            \n",
    "            # Write logs at every iteration\n",
    "            writer.add_summary(summary, e * num_of_batches + i)\n",
    "            \n",
    "            # Compute average loss\n",
    "            avg_loss += batch_loss / num_of_batches\n",
    "            \n",
    "        print(\"Epoch: \", '%02d' % (e + 1), \"  =====> Loss =\", \"{:.6f}\".format(avg_loss))\n",
    "\n",
    "def print_accuracy():\n",
    "    feed_dict_test = {x: mnist.test.images,\n",
    "                  y_true: mnist.test.labels}\n",
    "    \n",
    "    # Use TensorFlow to compute the accuracy.\n",
    "    # We are also going to save some metric like memory usage and computation time\n",
    "    run_options = tf.RunOptions(trace_level=tf.RunOptions.FULL_TRACE)\n",
    "    run_metadata = tf.RunMetadata()\n",
    "    acc = session.run(accuracy, feed_dict=feed_dict_test, options=run_options, run_metadata=run_metadata)\n",
    "    try:\n",
    "        writer.add_run_metadata(run_metadata, 'inference')\n",
    "    except ValueError:\n",
    "        pass\n",
    "    writer.flush()\n",
    "    # Print the accuracy.\n",
    "    print(\"Accuracy on test-set: {0:.1%}\".format(acc))"
   ]
  },
  {
   "cell_type": "code",
   "execution_count": 35,
   "metadata": {},
   "outputs": [
    {
     "name": "stdout",
     "output_type": "stream",
     "text": [
      "Epoch:  01   =====> Loss = 2.295382\n",
      "Epoch:  02   =====> Loss = 2.275604\n",
      "Epoch:  03   =====> Loss = 2.249139\n",
      "Epoch:  04   =====> Loss = 2.199265\n",
      "Epoch:  05   =====> Loss = 2.085629\n",
      "Epoch:  06   =====> Loss = 1.793648\n",
      "Epoch:  07   =====> Loss = 1.221362\n",
      "Epoch:  08   =====> Loss = 0.753995\n",
      "Epoch:  09   =====> Loss = 0.545681\n",
      "Epoch:  10   =====> Loss = 0.447751\n",
      "Epoch:  11   =====> Loss = 0.392135\n",
      "Epoch:  12   =====> Loss = 0.356013\n",
      "Epoch:  13   =====> Loss = 0.329551\n",
      "Epoch:  14   =====> Loss = 0.309669\n",
      "Epoch:  15   =====> Loss = 0.293401\n",
      "Epoch:  16   =====> Loss = 0.279250\n",
      "Epoch:  17   =====> Loss = 0.267182\n",
      "Epoch:  18   =====> Loss = 0.256065\n",
      "Epoch:  19   =====> Loss = 0.246462\n",
      "Epoch:  20   =====> Loss = 0.237657\n",
      "Epoch:  21   =====> Loss = 0.229426\n",
      "Epoch:  22   =====> Loss = 0.221930\n",
      "Epoch:  23   =====> Loss = 0.215055\n",
      "Epoch:  24   =====> Loss = 0.208639\n",
      "Epoch:  25   =====> Loss = 0.202419\n",
      "Epoch:  26   =====> Loss = 0.196787\n",
      "Epoch:  27   =====> Loss = 0.191868\n",
      "Epoch:  28   =====> Loss = 0.186564\n",
      "Epoch:  29   =====> Loss = 0.182172\n",
      "Epoch:  30   =====> Loss = 0.177916\n",
      "Epoch:  31   =====> Loss = 0.173885\n",
      "Epoch:  32   =====> Loss = 0.170000\n",
      "Epoch:  33   =====> Loss = 0.166300\n",
      "Epoch:  34   =====> Loss = 0.162322\n",
      "Epoch:  35   =====> Loss = 0.159497\n",
      "Epoch:  36   =====> Loss = 0.156256\n",
      "Epoch:  37   =====> Loss = 0.153056\n",
      "Epoch:  38   =====> Loss = 0.150276\n",
      "Epoch:  39   =====> Loss = 0.147647\n",
      "Epoch:  40   =====> Loss = 0.144920\n"
     ]
    }
   ],
   "source": [
    "optimize(40)"
   ]
  },
  {
   "cell_type": "code",
   "execution_count": 36,
   "metadata": {},
   "outputs": [
    {
     "name": "stdout",
     "output_type": "stream",
     "text": [
      "Accuracy on test-set: 95.7%\n"
     ]
    }
   ],
   "source": [
    "print_accuracy()"
   ]
  },
  {
   "cell_type": "markdown",
   "metadata": {},
   "source": [
    "<b> Question </b> : Use TensorBoard to visualise and save loss and accuracy curves. \n",
    "You will save figures in the folder **\"lab_2/MNIST_figures\"** and display them in your notebook."
   ]
  },
  {
   "cell_type": "markdown",
   "metadata": {},
   "source": [
    "**LeNet5 SGD, batch 128, lr .001**\n",
    "\n",
    "- Accuracy:\n",
    "<img src=\" data:image/png;base64,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\">\n",
    "\n",
    "- Loss:\n",
    "<img src=\" data:image/png;base64,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\">"
   ]
  },
  {
   "cell_type": "markdown",
   "metadata": {},
   "source": [
    "## Improve the LeNET 5 Optimization"
   ]
  },
  {
   "cell_type": "markdown",
   "metadata": {},
   "source": [
    "\n",
    "<b> Question </b>\n",
    "\n",
    "- Retrain your network with AdamOptimizer and then fill the table above:\n",
    "\n",
    "\n",
    "| Optimizer            |  Gradient Descent  |    AdamOptimizer    |\n",
    "|----------------------|--------------------|---------------------|\n",
    "| Testing Accuracy     |         95.7%        |        98.8%          |       \n",
    "| Training Time        |         13min 1s        |        12min 47s          |  \n",
    "\n",
    "- Which optimizer gives the best accuracy on test data?\n",
    "\n",
    "**Your answer:** AdamOptimizer obviously\n"
   ]
  },
  {
   "cell_type": "code",
   "execution_count": 37,
   "metadata": {},
   "outputs": [],
   "source": [
    "tf.reset_default_graph() # reset the default graph before defining a new model\n",
    "\n",
    "# Parameters\n",
    "learning_rate = 0.001\n",
    "batch_size = 128\n",
    "\n",
    "# Model, loss function and accuracy\n",
    "x = tf.placeholder(tf.float32, [None, 784], name='inputs')\n",
    "y_true = tf.placeholder(tf.float32, [None, 10], name='labels')\n",
    "y_true_cls = tf.argmax(y_true, 1) \n",
    "\n",
    "with tf.name_scope('model'):\n",
    "    logits = build_lenet5(x)\n",
    "    y_pred = tf.nn.softmax(logits) # Layer 5 activation function is defined here\n",
    "    y_pred_cls = tf.argmax(y_pred, axis=1)\n",
    "\n",
    "with tf.name_scope('loss'):\n",
    "    cross_entropy = tf.nn.softmax_cross_entropy_with_logits_v2(logits=logits, labels=y_true)\n",
    "    loss = tf.reduce_mean(cross_entropy)\n",
    "    \n",
    "with tf.name_scope('optim'):\n",
    "    optimizer = tf.train.AdamOptimizer(learning_rate) #  Adam optimizer\n",
    "    opt_step = optimizer.minimize(loss)\n",
    "    \n",
    "with tf.name_scope('accuracy'):\n",
    "    correct_prediction = tf.equal(y_pred_cls, y_true_cls)\n",
    "    accuracy = tf.reduce_mean(tf.cast(correct_prediction, tf.float32))\n",
    "\n",
    "session =  tf.Session()\n",
    "init_op = tf.global_variables_initializer()\n",
    "session.run(init_op)\n",
    "\n",
    "\n",
    "writer = tf.summary.FileWriter(next_path('logs/lenet5/run_%02d'))\n",
    "tf.summary.scalar(\"Loss\", loss)\n",
    "tf.summary.scalar(\"Accuracy\", accuracy)\n",
    "merged_summary_op = tf.summary.merge_all()\n",
    "\n",
    "writer.add_graph(tf.get_default_graph())"
   ]
  },
  {
   "cell_type": "code",
   "execution_count": 38,
   "metadata": {},
   "outputs": [
    {
     "name": "stdout",
     "output_type": "stream",
     "text": [
      "Epoch:  01   =====> Loss = 0.334405\n",
      "Epoch:  02   =====> Loss = 0.084121\n",
      "Epoch:  03   =====> Loss = 0.055955\n",
      "Epoch:  04   =====> Loss = 0.041970\n",
      "Epoch:  05   =====> Loss = 0.034244\n",
      "Epoch:  06   =====> Loss = 0.028109\n",
      "Epoch:  07   =====> Loss = 0.022586\n",
      "Epoch:  08   =====> Loss = 0.017606\n",
      "Epoch:  09   =====> Loss = 0.013957\n",
      "Epoch:  10   =====> Loss = 0.011657\n",
      "Epoch:  11   =====> Loss = 0.009708\n",
      "Epoch:  12   =====> Loss = 0.008814\n",
      "Epoch:  13   =====> Loss = 0.006614\n",
      "Epoch:  14   =====> Loss = 0.005484\n",
      "Epoch:  15   =====> Loss = 0.004506\n",
      "Epoch:  16   =====> Loss = 0.005227\n",
      "Epoch:  17   =====> Loss = 0.005029\n",
      "Epoch:  18   =====> Loss = 0.003745\n",
      "Epoch:  19   =====> Loss = 0.003311\n",
      "Epoch:  20   =====> Loss = 0.002539\n",
      "Epoch:  21   =====> Loss = 0.002365\n",
      "Epoch:  22   =====> Loss = 0.002831\n",
      "Epoch:  23   =====> Loss = 0.002252\n",
      "Epoch:  24   =====> Loss = 0.001852\n",
      "Epoch:  25   =====> Loss = 0.002632\n",
      "Epoch:  26   =====> Loss = 0.001745\n",
      "Epoch:  27   =====> Loss = 0.001638\n",
      "Epoch:  28   =====> Loss = 0.001615\n",
      "Epoch:  29   =====> Loss = 0.001188\n",
      "Epoch:  30   =====> Loss = 0.001369\n",
      "Epoch:  31   =====> Loss = 0.001780\n",
      "Epoch:  32   =====> Loss = 0.001162\n",
      "Epoch:  33   =====> Loss = 0.001186\n",
      "Epoch:  34   =====> Loss = 0.001550\n",
      "Epoch:  35   =====> Loss = 0.001249\n",
      "Epoch:  36   =====> Loss = 0.000964\n",
      "Epoch:  37   =====> Loss = 0.001054\n",
      "Epoch:  38   =====> Loss = 0.000770\n",
      "Epoch:  39   =====> Loss = 0.001007\n",
      "Epoch:  40   =====> Loss = 0.000828\n",
      "Accuracy on test-set: 98.8%\n"
     ]
    }
   ],
   "source": [
    "optimize(40)\n",
    "print_accuracy()"
   ]
  },
  {
   "cell_type": "markdown",
   "metadata": {},
   "source": [
    "<b> Question </b> Try to add dropout (keep_prob = 0.75) before the first fully connected layer. You will use `tf.nn.dropout` for that purpose. What accuracy do you achieve on testing data?\n",
    "\n",
    "**Accuracy achieved on testing data:** 97.5% (Better than SGD, worse than Adam without dropout)"
   ]
  },
  {
   "cell_type": "code",
   "execution_count": 39,
   "metadata": {},
   "outputs": [],
   "source": [
    "def build_lenet5(x):\n",
    "    with tf.name_scope(\"reshape\"):\n",
    "        image = tf.reshape(x, [-1, 28, 28, 1]) # [None, 28, 28, 1]\n",
    "    \n",
    "    with tf.name_scope(\"lenet5\"):\n",
    "        with tf.name_scope(\"layer1\"):\n",
    "            ## INIT\n",
    "            # Weight size is: [ filter_size , number of filters   ]\n",
    "            # filter size: 5x5x1, number of filters: 6\n",
    "            conv1_w = weight_variable(shape=[5, 5, 1, 6], name=\"conv1_w\")\n",
    "            # There are as many bias as there are filters\n",
    "            conv1_b = bias_variable(shape=[6], name=\"conv1_b\")\n",
    "            \n",
    "            ## CONVOLUTION\n",
    "            # Strides: NHWC,\n",
    "            # N: number of images (batch size), it will be 1 for simplicity.\n",
    "            # H: height of the image\n",
    "            # W: Width of the image\n",
    "            # C: number of channels (here 1  because grayscale)\n",
    "            # Same padding: size of the output is the same as the input: 28x28 \n",
    "            conv1 = tf.nn.conv2d(image, conv1_w, strides=[1, 1, 1, 1], padding=\"SAME\") + conv1_b\n",
    "            \n",
    "            ## ACTIVATION\n",
    "            # ReLu activation\n",
    "            conv1 = tf.nn.relu(conv1)\n",
    "            \n",
    "            ## MAXPOOLING\n",
    "            # Stride: ., 2, 2, 1: from 28x28x6 to 14x14x6\n",
    "            pool_1 = tf.nn.max_pool(conv1, ksize=[1, 2, 2, 1], strides=[1, 2, 2, 1], padding=\"VALID\")\n",
    "\n",
    "            \n",
    "        with tf.name_scope(\"layer2\"):\n",
    "            ## INIT\n",
    "            # filter size: 5x5x6, number of filters: 16\n",
    "            conv2_w = weight_variable(shape=[5, 5, 6, 16], name=\"conv2_w\")\n",
    "            conv2_b = bias_variable(shape=[16], name=\"conv2_b\")\n",
    "            \n",
    "            ## CONVOLUTION\n",
    "            # Padding is \"VALID\" because from 14x14 to 10x10 with 5x5 filter\n",
    "            conv2 = tf.nn.conv2d(pool_1, conv2_w, strides=[1, 1, 1, 1], padding=\"VALID\") + conv2_b\n",
    "            \n",
    "            ## ACTIVATION\n",
    "            conv2 = tf.nn.relu(conv2)\n",
    "            \n",
    "            ## MAXPOOLING\n",
    "            pool_2 = tf.nn.max_pool(conv2, ksize=[1, 2, 2, 1], strides=[1, 2, 2, 1], padding=\"VALID\" )\n",
    "        \n",
    "        \n",
    "        with tf.name_scope(\"flatten\"):\n",
    "            # From 3D to 1D\n",
    "            # From 5x5x16 to 400\n",
    "            flat = tf.reshape(pool_2, [-1, 400], name=\"flatten\")\n",
    "            \n",
    "                                     \n",
    "        with tf.name_scope(\"layer3\"):\n",
    "            # From 400 to 120\n",
    "            flat1_w = weight_variable(shape=[400, 120], name=\"weights_fully_1\")\n",
    "            flat1_b = bias_variable(shape=[120], name=\"bias_fully_1\")\n",
    "            \n",
    "            # Add dropout (randomly shut down units, regularization method)\n",
    "            flat = tf.nn.dropout(flat, rate=0.75)\n",
    "            \n",
    "            # Fully connected layer\n",
    "            flat1 = tf.matmul(flat, flat1_w) + flat1_b\n",
    "            \n",
    "            # ReLu\n",
    "            flat1 = tf.nn.relu(flat1)\n",
    "            \n",
    "            \n",
    "        with tf.name_scope(\"layer4\"):\n",
    "            # From 120 to 84\n",
    "            flat2_w = weight_variable(shape=[120, 84], name=\"weights_fully_2\")\n",
    "            flat2_b = bias_variable(shape=[84], name=\"bias_fully_2\" )\n",
    "            \n",
    "            # Fully connected layer\n",
    "            flat2 = tf.matmul(flat1, flat2_w) + flat2_b\n",
    "            \n",
    "            # ReLu\n",
    "            flat2 = tf.nn.relu(flat2)\n",
    "\n",
    "            \n",
    "        with tf.name_scope(\"layer5\"):\n",
    "            # From 84 to 10\n",
    "            flat3_w = weight_variable(shape=[84,10], name=\"weights_fully_output\")\n",
    "            flat3_b = bias_variable(shape=[10], name=\"bias_fully_output\" )\n",
    "            \n",
    "            # Fully connected layer\n",
    "            logits = tf.matmul(flat2, flat3_w) + flat3_b\n",
    "            # Softmax activation is defined outside because some function (cross entropy of acc)\n",
    "            # already compute softmax.\n",
    "        \n",
    "    return logits"
   ]
  },
  {
   "cell_type": "code",
   "execution_count": 40,
   "metadata": {},
   "outputs": [
    {
     "name": "stdout",
     "output_type": "stream",
     "text": [
      "WARNING:tensorflow:Large dropout rate: 0.75 (>0.5). In TensorFlow 2.x, dropout() uses dropout rate instead of keep_prob. Please ensure that this is intended.\n"
     ]
    }
   ],
   "source": [
    "tf.reset_default_graph() # reset the default graph before defining a new model\n",
    "\n",
    "# Parameters\n",
    "learning_rate = 0.001\n",
    "batch_size = 128\n",
    "\n",
    "# Model, loss function and accuracy\n",
    "x = tf.placeholder(tf.float32, [None, 784], name='inputs')\n",
    "y_true = tf.placeholder(tf.float32, [None, 10], name='labels')\n",
    "y_true_cls = tf.argmax(y_true, 1) \n",
    "\n",
    "with tf.name_scope('model'):\n",
    "    logits = build_lenet5(x)\n",
    "    y_pred = tf.nn.softmax(logits) # Layer 5 activation function is defined here\n",
    "    y_pred_cls = tf.argmax(y_pred, axis=1)\n",
    "\n",
    "with tf.name_scope('loss'):\n",
    "    cross_entropy = tf.nn.softmax_cross_entropy_with_logits_v2(logits=logits, labels=y_true)\n",
    "    loss = tf.reduce_mean(cross_entropy)\n",
    "    \n",
    "with tf.name_scope('optim'):\n",
    "    optimizer = tf.train.AdamOptimizer(learning_rate) #  Adam optimizer\n",
    "    opt_step = optimizer.minimize(loss)\n",
    "    \n",
    "with tf.name_scope('accuracy'):\n",
    "    correct_prediction = tf.equal(y_pred_cls, y_true_cls)\n",
    "    accuracy = tf.reduce_mean(tf.cast(correct_prediction, tf.float32))\n",
    "\n",
    "session =  tf.Session()\n",
    "init_op = tf.global_variables_initializer()\n",
    "session.run(init_op)\n",
    "\n",
    "\n",
    "writer = tf.summary.FileWriter(next_path('logs/lenet5/run_%02d'))\n",
    "tf.summary.scalar(\"Loss\", loss)\n",
    "tf.summary.scalar(\"Accuracy\", accuracy)\n",
    "merged_summary_op = tf.summary.merge_all()\n",
    "\n",
    "writer.add_graph(tf.get_default_graph())"
   ]
  },
  {
   "cell_type": "code",
   "execution_count": 41,
   "metadata": {},
   "outputs": [
    {
     "name": "stdout",
     "output_type": "stream",
     "text": [
      "Epoch:  01   =====> Loss = 0.692655\n",
      "Epoch:  02   =====> Loss = 0.266475\n",
      "Epoch:  03   =====> Loss = 0.216110\n",
      "Epoch:  04   =====> Loss = 0.187483\n",
      "Epoch:  05   =====> Loss = 0.172462\n",
      "Epoch:  06   =====> Loss = 0.155063\n",
      "Epoch:  07   =====> Loss = 0.146381\n",
      "Epoch:  08   =====> Loss = 0.141965\n",
      "Epoch:  09   =====> Loss = 0.133456\n",
      "Epoch:  10   =====> Loss = 0.127217\n",
      "Epoch:  11   =====> Loss = 0.122845\n",
      "Epoch:  12   =====> Loss = 0.117849\n",
      "Epoch:  13   =====> Loss = 0.114164\n",
      "Epoch:  14   =====> Loss = 0.114726\n",
      "Epoch:  15   =====> Loss = 0.110333\n",
      "Epoch:  16   =====> Loss = 0.106750\n",
      "Epoch:  17   =====> Loss = 0.103674\n",
      "Epoch:  18   =====> Loss = 0.103927\n",
      "Epoch:  19   =====> Loss = 0.099789\n",
      "Epoch:  20   =====> Loss = 0.094066\n",
      "Epoch:  21   =====> Loss = 0.093958\n",
      "Epoch:  22   =====> Loss = 0.095855\n",
      "Epoch:  23   =====> Loss = 0.091105\n",
      "Epoch:  24   =====> Loss = 0.092252\n",
      "Epoch:  25   =====> Loss = 0.087002\n",
      "Epoch:  26   =====> Loss = 0.086802\n",
      "Epoch:  27   =====> Loss = 0.084462\n",
      "Epoch:  28   =====> Loss = 0.085664\n",
      "Epoch:  29   =====> Loss = 0.085484\n",
      "Epoch:  30   =====> Loss = 0.082985\n",
      "Epoch:  31   =====> Loss = 0.083894\n",
      "Epoch:  32   =====> Loss = 0.082394\n",
      "Epoch:  33   =====> Loss = 0.081285\n",
      "Epoch:  34   =====> Loss = 0.078168\n",
      "Epoch:  35   =====> Loss = 0.079748\n",
      "Epoch:  36   =====> Loss = 0.081028\n",
      "Epoch:  37   =====> Loss = 0.075865\n",
      "Epoch:  38   =====> Loss = 0.078613\n",
      "Epoch:  39   =====> Loss = 0.073424\n",
      "Epoch:  40   =====> Loss = 0.075928\n",
      "Accuracy on test-set: 97.5%\n"
     ]
    }
   ],
   "source": [
    "optimize(40)\n",
    "print_accuracy()"
   ]
  },
  {
   "cell_type": "code",
   "execution_count": null,
   "metadata": {},
   "outputs": [],
   "source": []
  }
 ],
 "metadata": {
  "anaconda-cloud": {},
  "kernelspec": {
   "display_name": "Python 3",
   "language": "python",
   "name": "python3"
  },
  "language_info": {
   "codemirror_mode": {
    "name": "ipython",
    "version": 3
   },
   "file_extension": ".py",
   "mimetype": "text/x-python",
   "name": "python",
   "nbconvert_exporter": "python",
   "pygments_lexer": "ipython3",
   "version": "3.7.3"
  },
  "toc-autonumbering": false,
  "widgets": {
   "state": {},
   "version": "1.1.2"
  }
 },
 "nbformat": 4,
 "nbformat_minor": 2
}
